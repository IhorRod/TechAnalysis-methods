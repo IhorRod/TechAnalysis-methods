{
 "cells": [
  {
   "cell_type": "markdown",
   "source": [
    "First part: Data preparation, filtering and cleaning"
   ],
   "metadata": {
    "collapsed": false
   },
   "id": "80d10bb680bd8613"
  },
  {
   "cell_type": "code",
   "execution_count": 8,
   "id": "initial_id",
   "metadata": {
    "collapsed": true,
    "ExecuteTime": {
     "end_time": "2023-10-18T09:13:48.504651500Z",
     "start_time": "2023-10-18T09:13:44.819567900Z"
    }
   },
   "outputs": [],
   "source": [
    "import pandas as pd\n",
    "data = pd.read_csv('../data/BTCUSDT-1m-prep.csv', index_col=0)"
   ]
  },
  {
   "cell_type": "code",
   "execution_count": 9,
   "outputs": [
    {
     "data": {
      "text/plain": "(2943309, 14)"
     },
     "execution_count": 9,
     "metadata": {},
     "output_type": "execute_result"
    }
   ],
   "source": [
    "data.shape"
   ],
   "metadata": {
    "collapsed": false,
    "ExecuteTime": {
     "end_time": "2023-10-18T09:13:48.510651Z",
     "start_time": "2023-10-18T09:13:48.506651800Z"
    }
   },
   "id": "1100b560a97f225c"
  },
  {
   "cell_type": "code",
   "execution_count": 10,
   "outputs": [
    {
     "data": {
      "text/plain": "open_time           int64\nopen              float64\nhigh              float64\nlow               float64\nclose             float64\nvolume            float64\nnum_trades          int64\ntaker_base_vol    float64\nRSI               float64\nKAMA              float64\nPPO               float64\nPVO               float64\nATR               float64\nVWAP              float64\ndtype: object"
     },
     "execution_count": 10,
     "metadata": {},
     "output_type": "execute_result"
    }
   ],
   "source": [
    "data.dtypes"
   ],
   "metadata": {
    "collapsed": false,
    "ExecuteTime": {
     "end_time": "2023-10-18T09:13:48.523648500Z",
     "start_time": "2023-10-18T09:13:48.508650400Z"
    }
   },
   "id": "c7c50d81c93343a6"
  },
  {
   "cell_type": "code",
   "execution_count": 11,
   "outputs": [
    {
     "data": {
      "text/plain": "open_time         0\nopen              0\nhigh              0\nlow               0\nclose             0\nvolume            0\nnum_trades        0\ntaker_base_vol    0\nRSI               0\nKAMA              0\nPPO               0\nPVO               0\nATR               0\nVWAP              0\ndtype: int64"
     },
     "execution_count": 11,
     "metadata": {},
     "output_type": "execute_result"
    }
   ],
   "source": [
    "data.isnull().sum()"
   ],
   "metadata": {
    "collapsed": false,
    "ExecuteTime": {
     "end_time": "2023-10-18T09:13:48.581649200Z",
     "start_time": "2023-10-18T09:13:48.523648500Z"
    }
   },
   "id": "63169281d4f8c9e0"
  },
  {
   "cell_type": "code",
   "execution_count": 13,
   "outputs": [],
   "source": [
    "data = data.drop(['taker_base_vol', 'num_trades'], axis=1)"
   ],
   "metadata": {
    "collapsed": false,
    "ExecuteTime": {
     "end_time": "2023-10-18T09:14:26.685673500Z",
     "start_time": "2023-10-18T09:14:26.629675100Z"
    }
   },
   "id": "d85283768583c044"
  },
  {
   "cell_type": "code",
   "execution_count": 14,
   "outputs": [],
   "source": [
    "data = data.rename(columns={'open_time': 'time'})"
   ],
   "metadata": {
    "collapsed": false,
    "ExecuteTime": {
     "end_time": "2023-10-18T09:17:33.788297700Z",
     "start_time": "2023-10-18T09:17:33.729300400Z"
    }
   },
   "id": "67b4e4b5129620a0"
  },
  {
   "cell_type": "code",
   "execution_count": 16,
   "outputs": [
    {
     "data": {
      "text/plain": "                 time     open     high      low    close    volume       RSI  \\\n0 2017-09-01 11:59:00  4775.00  4775.00  4775.00  4775.00  0.070355  0.690908   \n1 2017-09-01 12:00:00  4775.00  4775.00  4775.00  4775.00  0.496307  0.690908   \n2 2017-09-01 12:01:00  4775.00  4775.00  4775.00  4775.00  0.000000  0.690908   \n3 2017-09-01 12:02:00  4779.99  4779.99  4779.99  4779.99  0.534126  0.847622   \n4 2017-09-01 12:03:00  4752.94  4752.94  4752.94  4752.94  0.416658  0.000000   \n\n          KAMA       PPO        PVO       ATR         VWAP  \n0  4775.000000  0.767761 -27.705258  6.283042  4724.424643  \n1  4775.000000  0.804877 -20.262442  6.274315  4724.506051  \n2  4775.000000  0.835847 -32.342081  6.265601  4724.553523  \n3  4775.031760  0.877563 -22.742588  6.263829  4724.649520  \n4  4774.907113  0.825946 -18.986390  6.292699  4724.687684  ",
      "text/html": "<div>\n<style scoped>\n    .dataframe tbody tr th:only-of-type {\n        vertical-align: middle;\n    }\n\n    .dataframe tbody tr th {\n        vertical-align: top;\n    }\n\n    .dataframe thead th {\n        text-align: right;\n    }\n</style>\n<table border=\"1\" class=\"dataframe\">\n  <thead>\n    <tr style=\"text-align: right;\">\n      <th></th>\n      <th>time</th>\n      <th>open</th>\n      <th>high</th>\n      <th>low</th>\n      <th>close</th>\n      <th>volume</th>\n      <th>RSI</th>\n      <th>KAMA</th>\n      <th>PPO</th>\n      <th>PVO</th>\n      <th>ATR</th>\n      <th>VWAP</th>\n    </tr>\n  </thead>\n  <tbody>\n    <tr>\n      <th>0</th>\n      <td>2017-09-01 11:59:00</td>\n      <td>4775.00</td>\n      <td>4775.00</td>\n      <td>4775.00</td>\n      <td>4775.00</td>\n      <td>0.070355</td>\n      <td>0.690908</td>\n      <td>4775.000000</td>\n      <td>0.767761</td>\n      <td>-27.705258</td>\n      <td>6.283042</td>\n      <td>4724.424643</td>\n    </tr>\n    <tr>\n      <th>1</th>\n      <td>2017-09-01 12:00:00</td>\n      <td>4775.00</td>\n      <td>4775.00</td>\n      <td>4775.00</td>\n      <td>4775.00</td>\n      <td>0.496307</td>\n      <td>0.690908</td>\n      <td>4775.000000</td>\n      <td>0.804877</td>\n      <td>-20.262442</td>\n      <td>6.274315</td>\n      <td>4724.506051</td>\n    </tr>\n    <tr>\n      <th>2</th>\n      <td>2017-09-01 12:01:00</td>\n      <td>4775.00</td>\n      <td>4775.00</td>\n      <td>4775.00</td>\n      <td>4775.00</td>\n      <td>0.000000</td>\n      <td>0.690908</td>\n      <td>4775.000000</td>\n      <td>0.835847</td>\n      <td>-32.342081</td>\n      <td>6.265601</td>\n      <td>4724.553523</td>\n    </tr>\n    <tr>\n      <th>3</th>\n      <td>2017-09-01 12:02:00</td>\n      <td>4779.99</td>\n      <td>4779.99</td>\n      <td>4779.99</td>\n      <td>4779.99</td>\n      <td>0.534126</td>\n      <td>0.847622</td>\n      <td>4775.031760</td>\n      <td>0.877563</td>\n      <td>-22.742588</td>\n      <td>6.263829</td>\n      <td>4724.649520</td>\n    </tr>\n    <tr>\n      <th>4</th>\n      <td>2017-09-01 12:03:00</td>\n      <td>4752.94</td>\n      <td>4752.94</td>\n      <td>4752.94</td>\n      <td>4752.94</td>\n      <td>0.416658</td>\n      <td>0.000000</td>\n      <td>4774.907113</td>\n      <td>0.825946</td>\n      <td>-18.986390</td>\n      <td>6.292699</td>\n      <td>4724.687684</td>\n    </tr>\n  </tbody>\n</table>\n</div>"
     },
     "execution_count": 16,
     "metadata": {},
     "output_type": "execute_result"
    }
   ],
   "source": [
    "# Change UNIX milliseconds to datetime\n",
    "data['time'] = pd.to_datetime(data['time'], unit='ms')\n",
    "data.head()"
   ],
   "metadata": {
    "collapsed": false,
    "ExecuteTime": {
     "end_time": "2023-10-18T09:19:36.467707300Z",
     "start_time": "2023-10-18T09:19:36.326521Z"
    }
   },
   "id": "5b140949932e18ba"
  },
  {
   "cell_type": "code",
   "execution_count": 17,
   "outputs": [],
   "source": [
    "data = data.drop_duplicates()"
   ],
   "metadata": {
    "collapsed": false,
    "ExecuteTime": {
     "end_time": "2023-10-18T09:21:20.029309600Z",
     "start_time": "2023-10-18T09:21:16.047014900Z"
    }
   },
   "id": "acba9f1f2dcc181"
  },
  {
   "cell_type": "code",
   "execution_count": 20,
   "outputs": [
    {
     "data": {
      "text/plain": "<Axes: xlabel='volume'>"
     },
     "execution_count": 20,
     "metadata": {},
     "output_type": "execute_result"
    },
    {
     "data": {
      "text/plain": "<Figure size 640x480 with 1 Axes>",
      "image/png": "[encoded data removed]"
     },
     "metadata": {},
     "output_type": "display_data"
    }
   ],
   "source": [
    "import seaborn as sns\n",
    "sns.boxplot(x=data['volume'], color='lightblue')"
   ],
   "metadata": {
    "collapsed": false,
    "ExecuteTime": {
     "end_time": "2023-10-18T09:24:18.486842200Z",
     "start_time": "2023-10-18T09:24:15.602328100Z"
    }
   },
   "id": "bea92d19f512557b"
  },
  {
   "cell_type": "code",
   "execution_count": 26,
   "outputs": [
    {
     "name": "stdout",
     "output_type": "stream",
     "text": [
      "Threshold volume: 11.698819\n",
      "Filtered data left: 2207481\n"
     ]
    }
   ],
   "source": [
    "threshold_volume = data['volume'].quantile(0.25)\n",
    "print(f\"Threshold volume: {threshold_volume}\")\n",
    "data_filtered = data[data['volume'] > threshold_volume]\n",
    "print(f\"Filtered data left: {data_filtered.shape[0]}\")"
   ],
   "metadata": {
    "collapsed": false,
    "ExecuteTime": {
     "end_time": "2023-10-18T09:28:29.198052100Z",
     "start_time": "2023-10-18T09:28:29.080566800Z"
    }
   },
   "id": "8712a0dc75a879ff"
  },
  {
   "cell_type": "code",
   "execution_count": 27,
   "outputs": [],
   "source": [
    "data_filtered.to_csv('../data/BTCUSDT-1m-prep-filtered.csv', index=False)"
   ],
   "metadata": {
    "collapsed": false,
    "ExecuteTime": {
     "end_time": "2023-10-18T09:29:19.067830300Z",
     "start_time": "2023-10-18T09:29:02.348066200Z"
    }
   },
   "id": "16e0654f678cec33"
  },
  {
   "cell_type": "markdown",
   "source": [
    "Second part: Data analysis with visualization"
   ],
   "metadata": {
    "collapsed": false
   },
   "id": "245a5f1cffddeeee"
  },
  {
   "cell_type": "code",
   "execution_count": 28,
   "outputs": [],
   "source": [
    "import matplotlib.pyplot as plt"
   ],
   "metadata": {
    "collapsed": false,
    "ExecuteTime": {
     "end_time": "2023-10-18T09:31:39.083330600Z",
     "start_time": "2023-10-18T09:31:39.068329600Z"
    }
   },
   "id": "2cfd6310fba0e5e0"
  },
  {
   "cell_type": "code",
   "execution_count": 29,
   "outputs": [
    {
     "data": {
      "text/plain": "<Figure size 640x480 with 1 Axes>",
      "image/png": "[encoded data removed]"
     },
     "metadata": {},
     "output_type": "display_data"
    }
   ],
   "source": [
    "# Plotting the price\n",
    "plt.plot(data_filtered['time'], data_filtered['close'])\n",
    "\n",
    "# Add labels\n",
    "plt.xlabel('Time')\n",
    "plt.ylabel('Price')\n",
    "plt.title('BTCUSDT price over time')\n",
    "\n",
    "# Rotate tick marks on x-axis\n",
    "plt.xticks(rotation=45)\n",
    "\n",
    "# Display plot\n",
    "plt.show()"
   ],
   "metadata": {
    "collapsed": false,
    "ExecuteTime": {
     "end_time": "2023-10-18T09:34:31.332995700Z",
     "start_time": "2023-10-18T09:34:30.991179300Z"
    }
   },
   "id": "f5f126ffd9b34c16"
  },
  {
   "cell_type": "code",
   "execution_count": 31,
   "outputs": [
    {
     "ename": "TypeError",
     "evalue": "Expect data.index as DatetimeIndex",
     "output_type": "error",
     "traceback": [
      "\u001B[1;31m---------------------------------------------------------------------------\u001B[0m",
      "\u001B[1;31mTypeError\u001B[0m                                 Traceback (most recent call last)",
      "Cell \u001B[1;32mIn[31], line 4\u001B[0m\n\u001B[0;32m      1\u001B[0m \u001B[38;5;28;01mimport\u001B[39;00m \u001B[38;5;21;01mmplfinance\u001B[39;00m \u001B[38;5;28;01mas\u001B[39;00m \u001B[38;5;21;01mmpf\u001B[39;00m\n\u001B[0;32m      3\u001B[0m \u001B[38;5;66;03m# Plot candlestick chart\u001B[39;00m\n\u001B[1;32m----> 4\u001B[0m \u001B[43mmpf\u001B[49m\u001B[38;5;241;43m.\u001B[39;49m\u001B[43mplot\u001B[49m\u001B[43m(\u001B[49m\u001B[43mdata\u001B[49m\u001B[43m[\u001B[49m\u001B[43m[\u001B[49m\u001B[38;5;124;43m'\u001B[39;49m\u001B[38;5;124;43mopen\u001B[39;49m\u001B[38;5;124;43m'\u001B[39;49m\u001B[43m,\u001B[49m\u001B[43m \u001B[49m\u001B[38;5;124;43m'\u001B[39;49m\u001B[38;5;124;43mhigh\u001B[39;49m\u001B[38;5;124;43m'\u001B[39;49m\u001B[43m,\u001B[49m\u001B[43m \u001B[49m\u001B[38;5;124;43m'\u001B[39;49m\u001B[38;5;124;43mlow\u001B[39;49m\u001B[38;5;124;43m'\u001B[39;49m\u001B[43m,\u001B[49m\u001B[43m \u001B[49m\u001B[38;5;124;43m'\u001B[39;49m\u001B[38;5;124;43mclose\u001B[39;49m\u001B[38;5;124;43m'\u001B[39;49m\u001B[43m,\u001B[49m\u001B[43m \u001B[49m\u001B[38;5;124;43m'\u001B[39;49m\u001B[38;5;124;43mvolume\u001B[39;49m\u001B[38;5;124;43m'\u001B[39;49m\u001B[43m]\u001B[49m\u001B[43m]\u001B[49m\u001B[43m,\u001B[49m\u001B[43m \u001B[49m\u001B[38;5;28;43mtype\u001B[39;49m\u001B[38;5;241;43m=\u001B[39;49m\u001B[38;5;124;43m'\u001B[39;49m\u001B[38;5;124;43mcandle\u001B[39;49m\u001B[38;5;124;43m'\u001B[39;49m\u001B[43m,\u001B[49m\u001B[43m \u001B[49m\u001B[43mstyle\u001B[49m\u001B[38;5;241;43m=\u001B[39;49m\u001B[38;5;124;43m'\u001B[39;49m\u001B[38;5;124;43mcharles\u001B[39;49m\u001B[38;5;124;43m'\u001B[39;49m\u001B[43m,\u001B[49m\u001B[43m \u001B[49m\u001B[43mvolume\u001B[49m\u001B[38;5;241;43m=\u001B[39;49m\u001B[38;5;28;43;01mTrue\u001B[39;49;00m\u001B[43m)\u001B[49m\n\u001B[0;32m      6\u001B[0m \u001B[38;5;66;03m# Show the plot\u001B[39;00m\n\u001B[0;32m      7\u001B[0m plt\u001B[38;5;241m.\u001B[39mshow()\n",
      "File \u001B[1;32mC:\\python3_10\\lib\\site-packages\\mplfinance\\plotting.py:417\u001B[0m, in \u001B[0;36mplot\u001B[1;34m(data, **kwargs)\u001B[0m\n\u001B[0;32m    414\u001B[0m \u001B[38;5;66;03m# translate alias types:\u001B[39;00m\n\u001B[0;32m    415\u001B[0m config[\u001B[38;5;124m'\u001B[39m\u001B[38;5;124mtype\u001B[39m\u001B[38;5;124m'\u001B[39m] \u001B[38;5;241m=\u001B[39m _get_valid_plot_types(config[\u001B[38;5;124m'\u001B[39m\u001B[38;5;124mtype\u001B[39m\u001B[38;5;124m'\u001B[39m])\n\u001B[1;32m--> 417\u001B[0m dates,opens,highs,lows,closes,volumes \u001B[38;5;241m=\u001B[39m \u001B[43m_check_and_prepare_data\u001B[49m\u001B[43m(\u001B[49m\u001B[43mdata\u001B[49m\u001B[43m,\u001B[49m\u001B[43m \u001B[49m\u001B[43mconfig\u001B[49m\u001B[43m)\u001B[49m\n\u001B[0;32m    419\u001B[0m config[\u001B[38;5;124m'\u001B[39m\u001B[38;5;124mxlim\u001B[39m\u001B[38;5;124m'\u001B[39m] \u001B[38;5;241m=\u001B[39m _check_and_convert_xlim_configuration(data, config)\n\u001B[0;32m    421\u001B[0m \u001B[38;5;28;01mif\u001B[39;00m config[\u001B[38;5;124m'\u001B[39m\u001B[38;5;124mtype\u001B[39m\u001B[38;5;124m'\u001B[39m] \u001B[38;5;129;01min\u001B[39;00m VALID_PMOVE_TYPES \u001B[38;5;129;01mand\u001B[39;00m config[\u001B[38;5;124m'\u001B[39m\u001B[38;5;124maddplot\u001B[39m\u001B[38;5;124m'\u001B[39m] \u001B[38;5;129;01mis\u001B[39;00m \u001B[38;5;129;01mnot\u001B[39;00m \u001B[38;5;28;01mNone\u001B[39;00m:\n",
      "File \u001B[1;32mC:\\python3_10\\lib\\site-packages\\mplfinance\\_arg_validators.py:32\u001B[0m, in \u001B[0;36m_check_and_prepare_data\u001B[1;34m(data, config)\u001B[0m\n\u001B[0;32m     29\u001B[0m     \u001B[38;5;28;01mraise\u001B[39;00m \u001B[38;5;167;01mTypeError\u001B[39;00m(\u001B[38;5;124m'\u001B[39m\u001B[38;5;124mExpect data as DataFrame\u001B[39m\u001B[38;5;124m'\u001B[39m)\n\u001B[0;32m     31\u001B[0m \u001B[38;5;28;01mif\u001B[39;00m \u001B[38;5;129;01mnot\u001B[39;00m \u001B[38;5;28misinstance\u001B[39m(data\u001B[38;5;241m.\u001B[39mindex,pd\u001B[38;5;241m.\u001B[39mcore\u001B[38;5;241m.\u001B[39mindexes\u001B[38;5;241m.\u001B[39mdatetimes\u001B[38;5;241m.\u001B[39mDatetimeIndex):\n\u001B[1;32m---> 32\u001B[0m     \u001B[38;5;28;01mraise\u001B[39;00m \u001B[38;5;167;01mTypeError\u001B[39;00m(\u001B[38;5;124m'\u001B[39m\u001B[38;5;124mExpect data.index as DatetimeIndex\u001B[39m\u001B[38;5;124m'\u001B[39m)\n\u001B[0;32m     34\u001B[0m \u001B[38;5;66;03m# We will not be fully case-insensitive (since Pandas columns as NOT case-insensitive)\u001B[39;00m\n\u001B[0;32m     35\u001B[0m \u001B[38;5;66;03m# but because so many people have requested it, for the default column names we will\u001B[39;00m\n\u001B[0;32m     36\u001B[0m \u001B[38;5;66;03m# try both Capitalized and lower case:\u001B[39;00m\n\u001B[0;32m     37\u001B[0m columns \u001B[38;5;241m=\u001B[39m config[\u001B[38;5;124m'\u001B[39m\u001B[38;5;124mcolumns\u001B[39m\u001B[38;5;124m'\u001B[39m]\n",
      "\u001B[1;31mTypeError\u001B[0m: Expect data.index as DatetimeIndex"
     ]
    }
   ],
   "source": [
    "import mplfinance as mpf\n",
    "\n",
    "# Plot candlestick chart\n",
    "mpf.plot(data[['open', 'high', 'low', 'close', 'volume']], type='candle', style='charles', volume=True)\n",
    "\n",
    "# Show the plot\n",
    "plt.show()"
   ],
   "metadata": {
    "collapsed": false,
    "ExecuteTime": {
     "end_time": "2023-10-18T09:40:55.274148300Z",
     "start_time": "2023-10-18T09:40:55.179137400Z"
    }
   },
   "id": "68b5aea3163de65d"
  },
  {
   "cell_type": "code",
   "execution_count": null,
   "outputs": [],
   "source": [],
   "metadata": {
    "collapsed": false
   },
   "id": "c64f988ea477c934"
  }
 ],
 "metadata": {
  "kernelspec": {
   "display_name": "Python 3",
   "language": "python",
   "name": "python3"
  },
  "language_info": {
   "codemirror_mode": {
    "name": "ipython",
    "version": 2
   },
   "file_extension": ".py",
   "mimetype": "text/x-python",
   "name": "python",
   "nbconvert_exporter": "python",
   "pygments_lexer": "ipython2",
   "version": "2.7.6"
  }
 },
 "nbformat": 4,
 "nbformat_minor": 5
}
