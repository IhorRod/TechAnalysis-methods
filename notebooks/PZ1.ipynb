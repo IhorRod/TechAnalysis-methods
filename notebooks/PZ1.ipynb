{
 "cells": [
  {
   "cell_type": "code",
   "execution_count": 8,
   "id": "initial_id",
   "metadata": {
    "collapsed": true,
    "ExecuteTime": {
     "end_time": "2023-10-18T09:13:48.504651500Z",
     "start_time": "2023-10-18T09:13:44.819567900Z"
    }
   },
   "outputs": [],
   "source": [
    "import pandas as pd\n",
    "data = pd.read_csv('../data/BTCUSDT-1m-prep.csv', index_col=0)"
   ]
  },
  {
   "cell_type": "code",
   "execution_count": 9,
   "outputs": [
    {
     "data": {
      "text/plain": "(2943309, 14)"
     },
     "execution_count": 9,
     "metadata": {},
     "output_type": "execute_result"
    }
   ],
   "source": [
    "data.shape"
   ],
   "metadata": {
    "collapsed": false,
    "ExecuteTime": {
     "end_time": "2023-10-18T09:13:48.510651Z",
     "start_time": "2023-10-18T09:13:48.506651800Z"
    }
   },
   "id": "1100b560a97f225c"
  },
  {
   "cell_type": "code",
   "execution_count": 10,
   "outputs": [
    {
     "data": {
      "text/plain": "open_time           int64\nopen              float64\nhigh              float64\nlow               float64\nclose             float64\nvolume            float64\nnum_trades          int64\ntaker_base_vol    float64\nRSI               float64\nKAMA              float64\nPPO               float64\nPVO               float64\nATR               float64\nVWAP              float64\ndtype: object"
     },
     "execution_count": 10,
     "metadata": {},
     "output_type": "execute_result"
    }
   ],
   "source": [
    "data.dtypes"
   ],
   "metadata": {
    "collapsed": false,
    "ExecuteTime": {
     "end_time": "2023-10-18T09:13:48.523648500Z",
     "start_time": "2023-10-18T09:13:48.508650400Z"
    }
   },
   "id": "c7c50d81c93343a6"
  },
  {
   "cell_type": "code",
   "execution_count": 11,
   "outputs": [
    {
     "data": {
      "text/plain": "open_time         0\nopen              0\nhigh              0\nlow               0\nclose             0\nvolume            0\nnum_trades        0\ntaker_base_vol    0\nRSI               0\nKAMA              0\nPPO               0\nPVO               0\nATR               0\nVWAP              0\ndtype: int64"
     },
     "execution_count": 11,
     "metadata": {},
     "output_type": "execute_result"
    }
   ],
   "source": [
    "data.isnull().sum()"
   ],
   "metadata": {
    "collapsed": false,
    "ExecuteTime": {
     "end_time": "2023-10-18T09:13:48.581649200Z",
     "start_time": "2023-10-18T09:13:48.523648500Z"
    }
   },
   "id": "63169281d4f8c9e0"
  },
  {
   "cell_type": "code",
   "execution_count": 13,
   "outputs": [],
   "source": [
    "data = data.drop(['taker_base_vol', 'num_trades'], axis=1)"
   ],
   "metadata": {
    "collapsed": false,
    "ExecuteTime": {
     "end_time": "2023-10-18T09:14:26.685673500Z",
     "start_time": "2023-10-18T09:14:26.629675100Z"
    }
   },
   "id": "d85283768583c044"
  },
  {
   "cell_type": "code",
   "execution_count": 14,
   "outputs": [],
   "source": [
    "data = data.rename(columns={'open_time': 'time'})"
   ],
   "metadata": {
    "collapsed": false,
    "ExecuteTime": {
     "end_time": "2023-10-18T09:17:33.788297700Z",
     "start_time": "2023-10-18T09:17:33.729300400Z"
    }
   },
   "id": "67b4e4b5129620a0"
  },
  {
   "cell_type": "code",
   "execution_count": 16,
   "outputs": [
    {
     "data": {
      "text/plain": "                 time     open     high      low    close    volume       RSI  \\\n0 2017-09-01 11:59:00  4775.00  4775.00  4775.00  4775.00  0.070355  0.690908   \n1 2017-09-01 12:00:00  4775.00  4775.00  4775.00  4775.00  0.496307  0.690908   \n2 2017-09-01 12:01:00  4775.00  4775.00  4775.00  4775.00  0.000000  0.690908   \n3 2017-09-01 12:02:00  4779.99  4779.99  4779.99  4779.99  0.534126  0.847622   \n4 2017-09-01 12:03:00  4752.94  4752.94  4752.94  4752.94  0.416658  0.000000   \n\n          KAMA       PPO        PVO       ATR         VWAP  \n0  4775.000000  0.767761 -27.705258  6.283042  4724.424643  \n1  4775.000000  0.804877 -20.262442  6.274315  4724.506051  \n2  4775.000000  0.835847 -32.342081  6.265601  4724.553523  \n3  4775.031760  0.877563 -22.742588  6.263829  4724.649520  \n4  4774.907113  0.825946 -18.986390  6.292699  4724.687684  ",
      "text/html": "<div>\n<style scoped>\n    .dataframe tbody tr th:only-of-type {\n        vertical-align: middle;\n    }\n\n    .dataframe tbody tr th {\n        vertical-align: top;\n    }\n\n    .dataframe thead th {\n        text-align: right;\n    }\n</style>\n<table border=\"1\" class=\"dataframe\">\n  <thead>\n    <tr style=\"text-align: right;\">\n      <th></th>\n      <th>time</th>\n      <th>open</th>\n      <th>high</th>\n      <th>low</th>\n      <th>close</th>\n      <th>volume</th>\n      <th>RSI</th>\n      <th>KAMA</th>\n      <th>PPO</th>\n      <th>PVO</th>\n      <th>ATR</th>\n      <th>VWAP</th>\n    </tr>\n  </thead>\n  <tbody>\n    <tr>\n      <th>0</th>\n      <td>2017-09-01 11:59:00</td>\n      <td>4775.00</td>\n      <td>4775.00</td>\n      <td>4775.00</td>\n      <td>4775.00</td>\n      <td>0.070355</td>\n      <td>0.690908</td>\n      <td>4775.000000</td>\n      <td>0.767761</td>\n      <td>-27.705258</td>\n      <td>6.283042</td>\n      <td>4724.424643</td>\n    </tr>\n    <tr>\n      <th>1</th>\n      <td>2017-09-01 12:00:00</td>\n      <td>4775.00</td>\n      <td>4775.00</td>\n      <td>4775.00</td>\n      <td>4775.00</td>\n      <td>0.496307</td>\n      <td>0.690908</td>\n      <td>4775.000000</td>\n      <td>0.804877</td>\n      <td>-20.262442</td>\n      <td>6.274315</td>\n      <td>4724.506051</td>\n    </tr>\n    <tr>\n      <th>2</th>\n      <td>2017-09-01 12:01:00</td>\n      <td>4775.00</td>\n      <td>4775.00</td>\n      <td>4775.00</td>\n      <td>4775.00</td>\n      <td>0.000000</td>\n      <td>0.690908</td>\n      <td>4775.000000</td>\n      <td>0.835847</td>\n      <td>-32.342081</td>\n      <td>6.265601</td>\n      <td>4724.553523</td>\n    </tr>\n    <tr>\n      <th>3</th>\n      <td>2017-09-01 12:02:00</td>\n      <td>4779.99</td>\n      <td>4779.99</td>\n      <td>4779.99</td>\n      <td>4779.99</td>\n      <td>0.534126</td>\n      <td>0.847622</td>\n      <td>4775.031760</td>\n      <td>0.877563</td>\n      <td>-22.742588</td>\n      <td>6.263829</td>\n      <td>4724.649520</td>\n    </tr>\n    <tr>\n      <th>4</th>\n      <td>2017-09-01 12:03:00</td>\n      <td>4752.94</td>\n      <td>4752.94</td>\n      <td>4752.94</td>\n      <td>4752.94</td>\n      <td>0.416658</td>\n      <td>0.000000</td>\n      <td>4774.907113</td>\n      <td>0.825946</td>\n      <td>-18.986390</td>\n      <td>6.292699</td>\n      <td>4724.687684</td>\n    </tr>\n  </tbody>\n</table>\n</div>"
     },
     "execution_count": 16,
     "metadata": {},
     "output_type": "execute_result"
    }
   ],
   "source": [
    "# Change UNIX milliseconds to datetime\n",
    "data['time'] = pd.to_datetime(data['time'], unit='ms')\n",
    "data.head()"
   ],
   "metadata": {
    "collapsed": false,
    "ExecuteTime": {
     "end_time": "2023-10-18T09:19:36.467707300Z",
     "start_time": "2023-10-18T09:19:36.326521Z"
    }
   },
   "id": "5b140949932e18ba"
  },
  {
   "cell_type": "code",
   "execution_count": 17,
   "outputs": [],
   "source": [
    "data = data.drop_duplicates()"
   ],
   "metadata": {
    "collapsed": false,
    "ExecuteTime": {
     "end_time": "2023-10-18T09:21:20.029309600Z",
     "start_time": "2023-10-18T09:21:16.047014900Z"
    }
   },
   "id": "acba9f1f2dcc181"
  },
  {
   "cell_type": "code",
   "execution_count": 20,
   "outputs": [
    {
     "data": {
      "text/plain": "<Axes: xlabel='volume'>"
     },
     "execution_count": 20,
     "metadata": {},
     "output_type": "execute_result"
    },
    {
     "data": {
      "text/plain": "<Figure size 640x480 with 1 Axes>",
      "image/png": "[encoded data removed]"
     },
     "metadata": {},
     "output_type": "display_data"
    }
   ],
   "source": [
    "import seaborn as sns\n",
    "sns.boxplot(x=data['volume'], color='lightblue')"
   ],
   "metadata": {
    "collapsed": false,
    "ExecuteTime": {
     "end_time": "2023-10-18T09:24:18.486842200Z",
     "start_time": "2023-10-18T09:24:15.602328100Z"
    }
   },
   "id": "bea92d19f512557b"
  },
  {
   "cell_type": "code",
   "execution_count": 26,
   "outputs": [
    {
     "name": "stdout",
     "output_type": "stream",
     "text": [
      "Threshold volume: 11.698819\n",
      "Filtered data left: 2207481\n"
     ]
    }
   ],
   "source": [
    "threshold_volume = data['volume'].quantile(0.25)\n",
    "print(f\"Threshold volume: {threshold_volume}\")\n",
    "data_filtered = data[data['volume'] > threshold_volume]\n",
    "print(f\"Filtered data left: {data_filtered.shape[0]}\")"
   ],
   "metadata": {
    "collapsed": false,
    "ExecuteTime": {
     "end_time": "2023-10-18T09:28:29.198052100Z",
     "start_time": "2023-10-18T09:28:29.080566800Z"
    }
   },
   "id": "8712a0dc75a879ff"
  },
  {
   "cell_type": "code",
   "execution_count": 27,
   "outputs": [],
   "source": [
    "data_filtered.to_csv('../data/BTCUSDT-1m-prep-filtered.csv', index=False)"
   ],
   "metadata": {
    "collapsed": false,
    "ExecuteTime": {
     "end_time": "2023-10-18T09:29:19.067830300Z",
     "start_time": "2023-10-18T09:29:02.348066200Z"
    }
   },
   "id": "16e0654f678cec33"
  },
  {
   "cell_type": "code",
   "execution_count": null,
   "outputs": [],
   "source": [],
   "metadata": {
    "collapsed": false
   },
   "id": "81312f360c69c9cd"
  }
 ],
 "metadata": {
  "kernelspec": {
   "display_name": "Python 3",
   "language": "python",
   "name": "python3"
  },
  "language_info": {
   "codemirror_mode": {
    "name": "ipython",
    "version": 2
   },
   "file_extension": ".py",
   "mimetype": "text/x-python",
   "name": "python",
   "nbconvert_exporter": "python",
   "pygments_lexer": "ipython2",
   "version": "2.7.6"
  }
 },
 "nbformat": 4,
 "nbformat_minor": 5
}
